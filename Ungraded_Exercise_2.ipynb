{
 "cells": [
  {
   "cell_type": "markdown",
   "metadata": {},
   "source": [
    "1. Ask user to enter a string and check that it is made up only alphabets:"
   ]
  },
  {
   "cell_type": "code",
   "execution_count": 2,
   "metadata": {},
   "outputs": [
    {
     "name": "stdout",
     "output_type": "stream",
     "text": [
      "Invalid string\n"
     ]
    }
   ],
   "source": [
    "input_word = input(\"Enter a string :\")\n",
    "\n",
    "if input_word.isalpha():\n",
    "    print(\"Valid string!\")\n",
    "else:\n",
    "    print(\"Invalid string!\")"
   ]
  },
  {
   "cell_type": "markdown",
   "metadata": {},
   "source": [
    "2. Now, make sure that the string is made up of both alphabets and numbers:\n",
    "\n",
    "TRY using isalnum() function and then entering only alhpabets in the string and see what happens."
   ]
  },
  {
   "cell_type": "code",
   "execution_count": 15,
   "metadata": {},
   "outputs": [
    {
     "name": "stdout",
     "output_type": "stream",
     "text": [
      "Valid string!\n"
     ]
    }
   ],
   "source": [
    "input_word = input(\"Enter a string:\")\n",
    "\n",
    "if input_word.isalnum() and not input_word.isalpha() and not input_word.isdigit():\n",
    "    print(\"Valid string!\")\n",
    "else:\n",
    "    print(\"Invalid string!\")\n",
    "    print(\"String must be made up of both alphabets and numbers.\")\n"
   ]
  },
  {
   "cell_type": "markdown",
   "metadata": {},
   "source": [
    "3. Now, make sure that the string is made up of both alphabets and at least one number:\n"
   ]
  },
  {
   "cell_type": "code",
   "execution_count": 20,
   "metadata": {},
   "outputs": [
    {
     "name": "stdout",
     "output_type": "stream",
     "text": [
      "Valid String!\n"
     ]
    }
   ],
   "source": [
    "input_word = input(\"Enter a string:\")\n",
    "\n",
    "alphabet = any(char.isalpha() for char in input_word)\n",
    "digit = any(char.isdigit() for char in input_word)\n",
    "\n",
    "if alphabet and digit:\n",
    "    print(\"Valid String!\")\n",
    "else:\n",
    "    print(\"Invalid String!\")\n",
    "    print(\"String must be made up of alphabets and at least one number.\")\n",
    "\n",
    "\n",
    "\n"
   ]
  },
  {
   "cell_type": "markdown",
   "metadata": {},
   "source": [
    "4. Now, make sure that the string is made up of both alphabets, at least one number, and at least one special character:"
   ]
  },
  {
   "cell_type": "code",
   "execution_count": null,
   "metadata": {},
   "outputs": [],
   "source": []
  },
  {
   "cell_type": "markdown",
   "metadata": {},
   "source": [
    "5. Now, modify the above code so that if the user enters an invalid string, the program should ask the user to enter another string again, and keep asking until a valid string has been entered."
   ]
  },
  {
   "cell_type": "code",
   "execution_count": null,
   "metadata": {},
   "outputs": [],
   "source": []
  }
 ],
 "metadata": {
  "kernelspec": {
   "display_name": "Python 3",
   "language": "python",
   "name": "python3"
  },
  "language_info": {
   "codemirror_mode": {
    "name": "ipython",
    "version": 3
   },
   "file_extension": ".py",
   "mimetype": "text/x-python",
   "name": "python",
   "nbconvert_exporter": "python",
   "pygments_lexer": "ipython3",
   "version": "3.12.5"
  }
 },
 "nbformat": 4,
 "nbformat_minor": 2
}
